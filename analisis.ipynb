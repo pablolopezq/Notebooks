{
  "nbformat": 4,
  "nbformat_minor": 0,
  "metadata": {
    "colab": {
      "name": "analisis.ipynb",
      "provenance": [],
      "collapsed_sections": [
        "H7xF7yIdpyBe",
        "97Tg9ZGmprGj"
      ],
      "authorship_tag": "ABX9TyPyoKBTWk2bqQnoYcB22IX+",
      "include_colab_link": true
    },
    "kernelspec": {
      "name": "python3",
      "display_name": "Python 3"
    }
  },
  "cells": [
    {
      "cell_type": "markdown",
      "metadata": {
        "id": "view-in-github",
        "colab_type": "text"
      },
      "source": [
        "<a href=\"https://colab.research.google.com/github/pablolopezq/Notebooks/blob/master/analisis.ipynb\" target=\"_parent\"><img src=\"https://colab.research.google.com/assets/colab-badge.svg\" alt=\"Open In Colab\"/></a>"
      ]
    },
    {
      "cell_type": "markdown",
      "metadata": {
        "id": "H7xF7yIdpyBe",
        "colab_type": "text"
      },
      "source": [
        "# SUDOKU"
      ]
    },
    {
      "cell_type": "code",
      "metadata": {
        "id": "Yo9a7h093iVN",
        "colab_type": "code",
        "colab": {}
      },
      "source": [
        "grid = [\n",
        "          [9,1,7,2,5,4,0,0,0],\n",
        "          [4,0,2,0,8,0,0,0,0],\n",
        "          [6,5,0,0,0,3,4,0,0],\n",
        "          [0,0,3,0,9,0,2,5,6],\n",
        "          [5,0,0,7,0,0,3,0,9],\n",
        "          [2,0,0,0,0,5,0,7,1],\n",
        "          [0,2,0,5,3,0,7,6,0],\n",
        "          [3,7,0,1,6,0,0,9,8],\n",
        "          [0,0,0,0,0,0,0,3,0]\n",
        "]\n",
        "\n",
        "solution = [\n",
        "          [9,1,7,2,5,4,6,8,3],\n",
        "          [4,3,2,6,8,7,9,1,5],\n",
        "          [6,5,8,9,1,3,4,2,7],\n",
        "          [7,4,3,8,9,1,2,5,6],\n",
        "          [5,8,1,7,2,6,3,4,9],\n",
        "          [2,9,6,3,4,5,8,7,1],\n",
        "          [1,2,9,5,3,8,7,6,4],\n",
        "          [3,7,4,1,6,2,5,9,8],\n",
        "          [8,6,5,4,7,9,1,3,2]\n",
        "]"
      ],
      "execution_count": 0,
      "outputs": []
    },
    {
      "cell_type": "code",
      "metadata": {
        "id": "-t5pHKnxWgOB",
        "colab_type": "code",
        "colab": {}
      },
      "source": [
        "def empty():\n",
        "  for i in range(9):\n",
        "    for j in range(9):\n",
        "      if grid[i][j] == 0:\n",
        "        return (i,j)"
      ],
      "execution_count": 0,
      "outputs": []
    },
    {
      "cell_type": "code",
      "metadata": {
        "id": "CLIHAYf7W2Ku",
        "colab_type": "code",
        "colab": {}
      },
      "source": [
        "def check_valid(pos, val):\n",
        "  for y in range(9):\n",
        "    if pos[1] != y and grid[pos[0]][y] == val:\n",
        "      return False\n",
        "  for x in range(9):\n",
        "    if pos[0] != x and grid[x][pos[1]] == val:\n",
        "      return False\n",
        "  block_row = (pos[0]//3)*3\n",
        "  block_col = (pos[1]//3)*3\n",
        "  for i in range(block_row, block_row+3):\n",
        "    for j in range(block_col, block_col+3):\n",
        "      if grid[i][j] == val and pos != (i,j):\n",
        "        return False\n",
        "  return True"
      ],
      "execution_count": 0,
      "outputs": []
    },
    {
      "cell_type": "code",
      "metadata": {
        "id": "g1CUidicQVyD",
        "colab_type": "code",
        "colab": {}
      },
      "source": [
        "def printBoard():\n",
        "  for i in range(9):\n",
        "    if i in [3,6]:\n",
        "      print('------+-------+------')\n",
        "    for j in range(9):\n",
        "      if j in [3,6] and j != 0:\n",
        "        print('|', end='')\n",
        "      if j == 8:\n",
        "        print(grid[i][j])\n",
        "      else:\n",
        "        print(str(grid[i][j]) + \" \", end='')"
      ],
      "execution_count": 0,
      "outputs": []
    },
    {
      "cell_type": "code",
      "metadata": {
        "id": "Z9BYAIrJO05E",
        "colab_type": "code",
        "colab": {}
      },
      "source": [
        "def solve():\n",
        "  free = empty()\n",
        "  if not free:\n",
        "    return True\n",
        "  for i in range(1,10):\n",
        "    if check_valid(free, i):\n",
        "      grid[free[0]][free[1]] = i;\n",
        "      if solve():\n",
        "        return True\n",
        "        \n",
        "  grid[free[0]][free[1]] = 0\n",
        "  return False"
      ],
      "execution_count": 0,
      "outputs": []
    },
    {
      "cell_type": "code",
      "metadata": {
        "id": "vHZMp3XNSj2D",
        "colab_type": "code",
        "colab": {}
      },
      "source": [
        "def check_sol():\n",
        "  if grid == solution:\n",
        "    print('Solucion encontrada')\n",
        "    printBoard()\n",
        "  else:\n",
        "    print('Solucion no encontrada')"
      ],
      "execution_count": 0,
      "outputs": []
    },
    {
      "cell_type": "code",
      "metadata": {
        "id": "Tn51hsDzRCjB",
        "colab_type": "code",
        "outputId": "cf055997-2f2e-4e15-baf1-d6f104e14199",
        "colab": {
          "base_uri": "https://localhost:8080/"
        }
      },
      "source": [
        "if solve():\n",
        "  check_sol()\n",
        "else:\n",
        "  print('failed')"
      ],
      "execution_count": 0,
      "outputs": [
        {
          "output_type": "stream",
          "text": [
            "Solucion encontrada\n",
            "9 1 7 |2 5 4 |6 8 3\n",
            "4 3 2 |6 8 7 |9 1 5\n",
            "6 5 8 |9 1 3 |4 2 7\n",
            "------+-------+------\n",
            "7 4 3 |8 9 1 |2 5 6\n",
            "5 8 1 |7 2 6 |3 4 9\n",
            "2 9 6 |3 4 5 |8 7 1\n",
            "------+-------+------\n",
            "1 2 9 |5 3 8 |7 6 4\n",
            "3 7 4 |1 6 2 |5 9 8\n",
            "8 6 5 |4 7 9 |1 3 2\n"
          ],
          "name": "stdout"
        }
      ]
    },
    {
      "cell_type": "markdown",
      "metadata": {
        "id": "97Tg9ZGmprGj",
        "colab_type": "text"
      },
      "source": [
        "# DFS"
      ]
    },
    {
      "cell_type": "code",
      "metadata": {
        "id": "OXx6SD26p5Tq",
        "colab_type": "code",
        "colab": {}
      },
      "source": [
        "from collections import defaultdict\n",
        "\n",
        "grafo = defaultdict(list)\n",
        "visitados = []\n"
      ],
      "execution_count": 0,
      "outputs": []
    },
    {
      "cell_type": "code",
      "metadata": {
        "id": "-htWZckhIa73",
        "colab_type": "code",
        "colab": {}
      },
      "source": [
        "def agregar(origen, destino):\n",
        "  grafo[origen].append(destino)"
      ],
      "execution_count": 0,
      "outputs": []
    },
    {
      "cell_type": "code",
      "metadata": {
        "id": "hSQy9B2HIyFF",
        "colab_type": "code",
        "colab": {}
      },
      "source": [
        "def DFS(origen):\n",
        "  visitados.append(origen)\n",
        "  for v in grafo[origen]:\n",
        "    if v not in visitados:\n",
        "      print(v)\n",
        "      DFS(v)\n",
        "  "
      ],
      "execution_count": 0,
      "outputs": []
    },
    {
      "cell_type": "code",
      "metadata": {
        "id": "gV6h-lrPF9B2",
        "colab_type": "code",
        "outputId": "907e1c3d-3d1c-46f3-bc91-bd2681754d75",
        "colab": {
          "base_uri": "https://localhost:8080/"
        }
      },
      "source": [
        "agregar('0','1')\n",
        "agregar('0','2')\n",
        "agregar('1','2')\n",
        "agregar('2','0')\n",
        "agregar('2','3')\n",
        "\n",
        "print('Desde 2')\n",
        "DFS('2')"
      ],
      "execution_count": 0,
      "outputs": [
        {
          "output_type": "stream",
          "text": [
            "Desde 2\n",
            "0\n",
            "1\n",
            "3\n"
          ],
          "name": "stdout"
        }
      ]
    },
    {
      "cell_type": "markdown",
      "metadata": {
        "id": "7E7B44IpJ6Ls",
        "colab_type": "text"
      },
      "source": [
        "# Minimun Spanning Tree"
      ]
    },
    {
      "cell_type": "code",
      "metadata": {
        "id": "8E9nBL5ZKoaI",
        "colab_type": "code",
        "colab": {}
      },
      "source": [
        "vertices = []\n",
        "adyacencias = []\n",
        "resultado = []\n",
        "subsets = []"
      ],
      "execution_count": 0,
      "outputs": []
    },
    {
      "cell_type": "code",
      "metadata": {
        "id": "uWR-QiwwLugw",
        "colab_type": "code",
        "colab": {}
      },
      "source": [
        "def agregarVertice(v):\n",
        "  if v not in vertices:\n",
        "    vertices.append(v)"
      ],
      "execution_count": 0,
      "outputs": []
    },
    {
      "cell_type": "code",
      "metadata": {
        "id": "vhRZ4LvRL9gg",
        "colab_type": "code",
        "colab": {}
      },
      "source": [
        "def agregarAdyacencia(origen, destino, peso):\n",
        "  if origen in vertices and destino in vertices:\n",
        "    adyacencias.append([origen, destino, peso])"
      ],
      "execution_count": 0,
      "outputs": []
    },
    {
      "cell_type": "code",
      "metadata": {
        "id": "E1XGeemZobSB",
        "colab_type": "code",
        "colab": {}
      },
      "source": [
        "def union(origen, destino):\n",
        "  i1, i2 = 0, 0\n",
        "  for l in subsets:\n",
        "    if l is not None and origen in l:\n",
        "      i1 = subsets.index(l)\n",
        "  for o in subsets:\n",
        "    if o is not None and destino in o:\n",
        "      i2 = subsets.index(o)\n",
        "\n",
        "  if not i1 == i2:\n",
        "    for d in subsets[i2]:\n",
        "      subsets[i1].append(d)\n",
        "    del subsets[i2]\n",
        "    return True"
      ],
      "execution_count": 0,
      "outputs": []
    },
    {
      "cell_type": "code",
      "metadata": {
        "id": "zu9zuNXzRLxw",
        "colab_type": "code",
        "colab": {}
      },
      "source": [
        "def mst():\n",
        "  for a in adyacencias:\n",
        "    if not len(resultado) == len(vertices)-1:\n",
        "      if union(a[0], a[1]):\n",
        "        resultado.append(a)"
      ],
      "execution_count": 0,
      "outputs": []
    },
    {
      "cell_type": "code",
      "metadata": {
        "id": "TTrRw9y9MBPe",
        "colab_type": "code",
        "colab": {}
      },
      "source": [
        "from operator import itemgetter\n",
        "\n",
        "agregarVertice('A')\n",
        "agregarVertice('B')\n",
        "agregarVertice('C')\n",
        "agregarVertice('D')\n",
        "agregarVertice('E')\n",
        "agregarVertice('F')\n",
        "agregarVertice('G')\n",
        "agregarVertice('H')\n",
        "agregarVertice('I')\n",
        "limite = len(vertices)\n",
        "\n",
        "for v in vertices:\n",
        "  x = [v]\n",
        "  subsets.append(x)\n",
        "\n",
        "agregarAdyacencia('A', 'B', 4)\n",
        "agregarAdyacencia('A', 'H', 8)\n",
        "agregarAdyacencia('B', 'H', 11)\n",
        "agregarAdyacencia('B', 'C', 8)\n",
        "agregarAdyacencia('C', 'D', 7)\n",
        "agregarAdyacencia('D', 'E', 9)\n",
        "agregarAdyacencia('E', 'F', 10)\n",
        "agregarAdyacencia('F', 'G', 2)\n",
        "agregarAdyacencia('G', 'H', 1)\n",
        "agregarAdyacencia('H', 'I', 7)\n",
        "agregarAdyacencia('I', 'C', 2)\n",
        "agregarAdyacencia('I', 'G', 6)\n",
        "agregarAdyacencia('C', 'F', 4)\n",
        "agregarAdyacencia('D', 'F', 14)\n",
        "\n",
        "adyacencias = sorted(adyacencias, key=itemgetter(2))\n",
        "\n",
        "mst()\n",
        "\n",
        "print(subsets)\n",
        "print(resultado)"
      ],
      "execution_count": 0,
      "outputs": []
    }
  ]
}