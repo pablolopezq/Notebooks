{
  "nbformat": 4,
  "nbformat_minor": 0,
  "metadata": {
    "colab": {
      "name": "DynamicProgramming.ipynb",
      "provenance": [],
      "collapsed_sections": [
        "fPNlc3KdOAcQ",
        "UJchHbSUOCpR",
        "W-UK8d0IOJuC"
      ],
      "authorship_tag": "ABX9TyMDB0r5WMibh8p9Q0DzELsy",
      "include_colab_link": true
    },
    "kernelspec": {
      "name": "python3",
      "display_name": "Python 3"
    }
  },
  "cells": [
    {
      "cell_type": "markdown",
      "metadata": {
        "id": "view-in-github",
        "colab_type": "text"
      },
      "source": [
        "<a href=\"https://colab.research.google.com/github/pablolopezq/Notebooks/blob/master/DynamicProgramming.ipynb\" target=\"_parent\"><img src=\"https://colab.research.google.com/assets/colab-badge.svg\" alt=\"Open In Colab\"/></a>"
      ]
    },
    {
      "cell_type": "markdown",
      "metadata": {
        "id": "fPNlc3KdOAcQ",
        "colab_type": "text"
      },
      "source": [
        "# Sudoku"
      ]
    },
    {
      "cell_type": "code",
      "metadata": {
        "id": "Yo9a7h093iVN",
        "colab_type": "code",
        "colab": {}
      },
      "source": [
        "grid = [\n",
        "          [9,1,7,2,5,4,0,0,0],\n",
        "          [4,0,2,0,8,0,0,0,0],\n",
        "          [6,5,0,0,0,3,4,0,0],\n",
        "          [0,0,3,0,9,0,2,5,6],\n",
        "          [5,0,0,7,0,0,3,0,9],\n",
        "          [2,0,0,0,0,5,0,7,1],\n",
        "          [0,2,0,5,3,0,7,6,0],\n",
        "          [3,7,0,1,6,0,0,9,8],\n",
        "          [0,0,0,0,0,0,0,3,0]\n",
        "]\n",
        "\n",
        "solution = [\n",
        "          [9,1,7,2,5,4,6,8,3],\n",
        "          [4,3,2,6,8,7,9,1,5],\n",
        "          [6,5,8,9,1,3,4,2,7],\n",
        "          [7,4,3,8,9,1,2,5,6],\n",
        "          [5,8,1,7,2,6,3,4,9],\n",
        "          [2,9,6,3,4,5,8,7,1],\n",
        "          [1,2,9,5,3,8,7,6,4],\n",
        "          [3,7,4,1,6,2,5,9,8],\n",
        "          [8,6,5,4,7,9,1,3,2]\n",
        "]"
      ],
      "execution_count": 400,
      "outputs": []
    },
    {
      "cell_type": "code",
      "metadata": {
        "id": "-t5pHKnxWgOB",
        "colab_type": "code",
        "colab": {}
      },
      "source": [
        "def empty():\n",
        "  for i in range(9):\n",
        "    for j in range(9):\n",
        "      if grid[i][j] == 0:\n",
        "        return (i,j)"
      ],
      "execution_count": 401,
      "outputs": []
    },
    {
      "cell_type": "code",
      "metadata": {
        "id": "CLIHAYf7W2Ku",
        "colab_type": "code",
        "colab": {}
      },
      "source": [
        "def check_valid(pos, val):\n",
        "  for y in range(9):\n",
        "    if pos[1] != y and grid[pos[0]][y] == val:\n",
        "      return False\n",
        "  for x in range(9):\n",
        "    if pos[0] != x and grid[x][pos[1]] == val:\n",
        "      return False\n",
        "  block_row = (pos[0]//3)*3\n",
        "  block_col = (pos[1]//3)*3\n",
        "  for i in range(block_row, block_row+3):\n",
        "    for j in range(block_col, block_col+3):\n",
        "      if grid[i][j] == val and pos != (i,j):\n",
        "        return False\n",
        "  return True"
      ],
      "execution_count": 402,
      "outputs": []
    },
    {
      "cell_type": "code",
      "metadata": {
        "id": "g1CUidicQVyD",
        "colab_type": "code",
        "colab": {}
      },
      "source": [
        "def printBoard():\n",
        "  for i in range(9):\n",
        "    if i in [3,6]:\n",
        "      print('------+-------+------')\n",
        "    for j in range(9):\n",
        "      if j in [3,6] and j != 0:\n",
        "        print('|', end='')\n",
        "      if j == 8:\n",
        "        print(grid[i][j])\n",
        "      else:\n",
        "        print(str(grid[i][j]) + \" \", end='')"
      ],
      "execution_count": 403,
      "outputs": []
    },
    {
      "cell_type": "code",
      "metadata": {
        "id": "Z9BYAIrJO05E",
        "colab_type": "code",
        "colab": {}
      },
      "source": [
        "def solve():\n",
        "  free = empty()\n",
        "  if not free:\n",
        "    return True\n",
        "  for i in range(1,10):\n",
        "    if check_valid(free, i):\n",
        "      grid[free[0]][free[1]] = i;\n",
        "      if solve():\n",
        "        return True\n",
        "        \n",
        "  grid[free[0]][free[1]] = 0\n",
        "  return False"
      ],
      "execution_count": 404,
      "outputs": []
    },
    {
      "cell_type": "code",
      "metadata": {
        "id": "vHZMp3XNSj2D",
        "colab_type": "code",
        "colab": {}
      },
      "source": [
        "def check_sol():\n",
        "  if grid == solution:\n",
        "    print('Solucion encontrada')\n",
        "    printBoard()\n",
        "  else:\n",
        "    print('Solucion no encontrada')"
      ],
      "execution_count": 405,
      "outputs": []
    },
    {
      "cell_type": "code",
      "metadata": {
        "id": "Tn51hsDzRCjB",
        "colab_type": "code",
        "colab": {
          "base_uri": "https://localhost:8080/",
          "height": 0
        },
        "outputId": "97449bee-8596-4a88-d057-574ccf6eaf88"
      },
      "source": [
        "if solve():\n",
        "  check_sol()\n",
        "else:\n",
        "  print('failed')"
      ],
      "execution_count": 406,
      "outputs": [
        {
          "output_type": "stream",
          "text": [
            "Solucion encontrada\n",
            "9 1 7 |2 5 4 |6 8 3\n",
            "4 3 2 |6 8 7 |9 1 5\n",
            "6 5 8 |9 1 3 |4 2 7\n",
            "------+-------+------\n",
            "7 4 3 |8 9 1 |2 5 6\n",
            "5 8 1 |7 2 6 |3 4 9\n",
            "2 9 6 |3 4 5 |8 7 1\n",
            "------+-------+------\n",
            "1 2 9 |5 3 8 |7 6 4\n",
            "3 7 4 |1 6 2 |5 9 8\n",
            "8 6 5 |4 7 9 |1 3 2\n"
          ],
          "name": "stdout"
        }
      ]
    },
    {
      "cell_type": "markdown",
      "metadata": {
        "id": "UJchHbSUOCpR",
        "colab_type": "text"
      },
      "source": [
        "# Fibonacci sin Dynamic Programming"
      ]
    },
    {
      "cell_type": "code",
      "metadata": {
        "id": "Kz0HHHckOsHr",
        "colab_type": "code",
        "colab": {}
      },
      "source": [
        "def fib_nodp(n):\n",
        "  if n <= 1:\n",
        "    return n\n",
        "  else:\n",
        "    return fib_nodp(n-1) + fib_nodp(n-2)"
      ],
      "execution_count": 407,
      "outputs": []
    },
    {
      "cell_type": "markdown",
      "metadata": {
        "id": "W-UK8d0IOJuC",
        "colab_type": "text"
      },
      "source": [
        "# Fibonacci con Dynamic Programming"
      ]
    },
    {
      "cell_type": "code",
      "metadata": {
        "id": "bvEnqQjNRrtx",
        "colab_type": "code",
        "colab": {}
      },
      "source": [
        "arr = [0,1]\n",
        "def fib_dp(n):\n",
        "  if n < len(arr):\n",
        "    return arr[n]\n",
        "  else:\n",
        "    t = fib_dp(n-1) + fib_dp(n-2)\n",
        "    arr.append(t)\n",
        "  return t"
      ],
      "execution_count": 408,
      "outputs": []
    },
    {
      "cell_type": "markdown",
      "metadata": {
        "id": "Rju6UuOpSTZe",
        "colab_type": "text"
      },
      "source": [
        "# Exec"
      ]
    },
    {
      "cell_type": "code",
      "metadata": {
        "id": "apNqrxotSaYD",
        "colab_type": "code",
        "colab": {
          "base_uri": "https://localhost:8080/",
          "height": 366
        },
        "outputId": "30e6b7da-1c69-475f-c94c-e26e07729af8"
      },
      "source": [
        "import matplotlib.pyplot as plt\n",
        "import time\n",
        "\n",
        "fib_nodp_dict = {0: 0}\n",
        "fib_dp_dict = {0: 0}\n",
        "\n",
        "print(fib_dp(10))\n",
        "print(fib_dp(10))\n",
        "\n",
        "for i in range(35):\n",
        "  t0 = time.clock()\n",
        "  n = fib_nodp(i)\n",
        "  t1 = time.clock() - t0\n",
        "  print(n, end=\" \")\n",
        "  fib_nodp_dict[i] = t1\n",
        "\n",
        "print()\n",
        "\n",
        "for j in range(35):\n",
        "  t2 = time.clock()\n",
        "  m = fib_dp(j)\n",
        "  t3 = time.clock() - t2\n",
        "  print(m, end=\" \")\n",
        "  fib_dp_dict[j] = t3\n",
        "\n",
        "x = list(fib_nodp_dict.keys())\n",
        "y = list(fib_nodp_dict.values())\n",
        "\n",
        "x1 = list(fib_dp_dict.keys())\n",
        "y1 = list(fib_dp_dict.values())\n",
        "\n",
        "plt.xlabel(\"N\") \n",
        "plt.ylabel(\"Tiempo de ejecucion\") \n",
        "plt.plot(x,y, label = \"Fibonacci sin Dynamic Programming\")\n",
        "plt.plot(x1,y1, label = \"Fibonacci con Dynamic Programming\")\n",
        "plt.title(\"Tiempos de ejecucion\")\n",
        "plt.legend()\n",
        "plt.show()"
      ],
      "execution_count": 409,
      "outputs": [
        {
          "output_type": "stream",
          "text": [
            "55\n",
            "55\n",
            "0 1 1 2 3 5 8 13 21 34 55 89 144 233 377 610 987 1597 2584 4181 6765 10946 17711 28657 46368 75025 121393 196418 317811 514229 832040 1346269 2178309 3524578 5702887 \n",
            "0 1 1 2 3 5 8 13 21 34 55 89 144 233 377 610 987 1597 2584 4181 6765 10946 17711 28657 46368 75025 121393 196418 317811 514229 832040 1346269 2178309 3524578 5702887 "
          ],
          "name": "stdout"
        },
        {
          "output_type": "display_data",
          "data": {
            "image/png": "[encoded data removed]",
            "text/plain": [
              "<Figure size 432x288 with 1 Axes>"
            ]
          },
          "metadata": {
            "tags": [],
            "needs_background": "light"
          }
        }
      ]
    },
    {
      "cell_type": "code",
      "metadata": {
        "id": "TC9rMmDDiM5m",
        "colab_type": "code",
        "colab": {}
      },
      "source": [
        ""
      ],
      "execution_count": 409,
      "outputs": []
    }
  ]
}