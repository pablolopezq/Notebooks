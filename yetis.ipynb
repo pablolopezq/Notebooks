{
  "nbformat": 4,
  "nbformat_minor": 0,
  "metadata": {
    "colab": {
      "name": "yetis.ipynb",
      "provenance": [],
      "authorship_tag": "ABX9TyOtvwY/dectxa1qCt0fYZbf",
      "include_colab_link": true
    },
    "kernelspec": {
      "name": "python3",
      "display_name": "Python 3"
    }
  },
  "cells": [
    {
      "cell_type": "markdown",
      "metadata": {
        "id": "view-in-github",
        "colab_type": "text"
      },
      "source": [
        "<a href=\"https://colab.research.google.com/github/pablolopezq/Notebooks/blob/master/yetis.ipynb\" target=\"_parent\"><img src=\"https://colab.research.google.com/assets/colab-badge.svg\" alt=\"Open In Colab\"/></a>"
      ]
    },
    {
      "cell_type": "code",
      "metadata": {
        "id": "qzQVgB0CduQU",
        "colab_type": "code",
        "colab": {}
      },
      "source": [
        "sizes = [[3,4,3], [3,6,3], [4,8,4], [3,7,3], [4,8,4], [4,4,3], [5,4,4], [4,6,3], [6,13,6], [7,15,7], [4,11,4], [3,11,3], [3,10,3]]\n",
        "inventory = []\n",
        "box_size = [10,15,10]\n",
        "mem_data = []"
      ],
      "execution_count": 1,
      "outputs": []
    },
    {
      "cell_type": "code",
      "metadata": {
        "id": "RfW2vP4cdryY",
        "colab_type": "code",
        "colab": {}
      },
      "source": [
        "import csv\n",
        "import random"
      ],
      "execution_count": 2,
      "outputs": []
    },
    {
      "cell_type": "code",
      "metadata": {
        "id": "W21OI0n5eD7J",
        "colab_type": "code",
        "colab": {}
      },
      "source": [
        "def gen_data():\n",
        "  for i in range(10000):\n",
        "    x = random.randint(0,12)\n",
        "    inventory.append(sizes[x])\n",
        "  \n",
        "  with open('inventory.csv', 'w', newline='') as file:\n",
        "    wr = csv.writer(file, quoting=csv.QUOTE_ALL)\n",
        "    wr.writerows(inventory)\n"
      ],
      "execution_count": 3,
      "outputs": []
    },
    {
      "cell_type": "code",
      "metadata": {
        "id": "zUHrHYbieQMS",
        "colab_type": "code",
        "colab": {}
      },
      "source": [
        "def import_data():\n",
        "  with open('inventory.csv', newline='') as file:\n",
        "    reader = csv.reader(file)\n",
        "    data = list(reader)\n",
        "  return data"
      ],
      "execution_count": 4,
      "outputs": []
    },
    {
      "cell_type": "code",
      "metadata": {
        "id": "C0Dfdgfqen8H",
        "colab_type": "code",
        "colab": {
          "base_uri": "https://localhost:8080/",
          "height": 34
        },
        "outputId": "c8d600db-5c8e-4c07-b10b-7cbe1fd25ac4"
      },
      "source": [
        "gen_data()\n",
        "mem_data = import_data()\n",
        "print(len(mem_data))"
      ],
      "execution_count": 5,
      "outputs": [
        {
          "output_type": "stream",
          "text": [
            "10000\n"
          ],
          "name": "stdout"
        }
      ]
    }
  ]
}